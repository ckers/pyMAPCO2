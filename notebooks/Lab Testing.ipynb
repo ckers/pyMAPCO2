{
 "cells": [
  {
   "cell_type": "code",
   "execution_count": 1,
   "metadata": {
    "collapsed": false
   },
   "outputs": [],
   "source": [
    "import sys\n",
    "import glob\n",
    "import pandas as pd\n",
    "import matplotlib.pyplot as plt\n",
    "import plotly.offline as ply\n",
    "import plotly.graph_objs as go\n",
    "\n",
    "from bs4 import BeautifulSoup\n",
    "from importlib import reload\n",
    "\n",
    "pd.set_option('display.max_colwidth', -1)"
   ]
  },
  {
   "cell_type": "code",
   "execution_count": 2,
   "metadata": {
    "collapsed": true
   },
   "outputs": [],
   "source": [
    "package_path = 'C:\\\\Users\\\\dietrich\\\\code\\\\'\n",
    "sys.path.insert(0, package_path)"
   ]
  },
  {
   "cell_type": "code",
   "execution_count": 3,
   "metadata": {
    "collapsed": false
   },
   "outputs": [],
   "source": [
    "from pyMAPCO2 import scrape, load, iridium, plot, plot_plt, plot_ply"
   ]
  },
  {
   "cell_type": "code",
   "execution_count": 4,
   "metadata": {
    "collapsed": false
   },
   "outputs": [],
   "source": [
    "from sunburst_sensors.sunburst import sami\n",
    "from sunburst_sensors.sunburst import mapco2"
   ]
  },
  {
   "cell_type": "markdown",
   "metadata": {},
   "source": [
    "### I. Dashboard"
   ]
  },
  {
   "cell_type": "markdown",
   "metadata": {},
   "source": [
    "#### 1. Units to scrape data for"
   ]
  },
  {
   "cell_type": "code",
   "execution_count": 5,
   "metadata": {
    "collapsed": true
   },
   "outputs": [],
   "source": [
    "systems_tested = ['0168', '0024', '0105', '0155', '0175']"
   ]
  },
  {
   "cell_type": "markdown",
   "metadata": {},
   "source": [
    "#### 2a. Limit to a time range"
   ]
  },
  {
   "cell_type": "code",
   "execution_count": 6,
   "metadata": {
    "collapsed": true
   },
   "outputs": [],
   "source": [
    "t_start = '06/01/2017 00:00'\n",
    "t_end = '06/08/2017 00:00'"
   ]
  },
  {
   "cell_type": "markdown",
   "metadata": {},
   "source": [
    "#### 2b. Limit data to within a certain number of days  \n",
    "Note: this overrides t_start and t_end values"
   ]
  },
  {
   "cell_type": "code",
   "execution_count": 7,
   "metadata": {
    "collapsed": true
   },
   "outputs": [],
   "source": [
    "days_in_past = 5"
   ]
  },
  {
   "cell_type": "markdown",
   "metadata": {},
   "source": [
    "#### 3. Print verbose messages"
   ]
  },
  {
   "cell_type": "code",
   "execution_count": 8,
   "metadata": {
    "collapsed": true
   },
   "outputs": [],
   "source": [
    "verbose = True"
   ]
  },
  {
   "cell_type": "markdown",
   "metadata": {},
   "source": [
    "#### 4. Local location of downloaded data"
   ]
  },
  {
   "cell_type": "code",
   "execution_count": 9,
   "metadata": {
    "collapsed": true
   },
   "outputs": [],
   "source": [
    "local_target = 'C:\\\\Users\\\\dietrich\\\\data\\\\rudics\\\\mapco2'"
   ]
  },
  {
   "cell_type": "markdown",
   "metadata": {},
   "source": [
    "### II. Scrape Data  "
   ]
  },
  {
   "cell_type": "markdown",
   "metadata": {},
   "source": [
    "#### 1A. Scrape Rudics server and generate file list to load"
   ]
  },
  {
   "cell_type": "raw",
   "metadata": {},
   "source": [
    "reload(scrape)\n",
    "fdl = scrape.run(units=systems_tested,\n",
    "           t_start=t_start,\n",
    "           t_end=t_end,\n",
    "           verbose=True)\n",
    "fdl"
   ]
  },
  {
   "cell_type": "raw",
   "metadata": {
    "collapsed": true
   },
   "source": [
    "f_list = list(fdl.local_filepath)\n",
    "f_list"
   ]
  },
  {
   "cell_type": "markdown",
   "metadata": {},
   "source": [
    "#### 1B. Load specified files"
   ]
  },
  {
   "cell_type": "raw",
   "metadata": {
    "collapsed": true
   },
   "source": [
    "f_list = [local_target + '\\\\test\\\\C0006_2016_08_15.txt',\n",
    "          local_target + '\\\\test\\\\C0179_2016_06_14.txt']"
   ]
  },
  {
   "cell_type": "raw",
   "metadata": {
    "collapsed": true
   },
   "source": [
    "f_list = ['C:\\\\Users\\\\dietrich\\\\data\\\\rudics\\\\mapco2\\\\0105\\\\C0105_2016_12_12.txt']"
   ]
  },
  {
   "cell_type": "markdown",
   "metadata": {},
   "source": [
    "#### 1C. Load existing files based on systems_tested"
   ]
  },
  {
   "cell_type": "code",
   "execution_count": 10,
   "metadata": {
    "collapsed": false
   },
   "outputs": [
    {
     "name": "stdout",
     "output_type": "stream",
     "text": [
      "0168\n",
      "0024\n",
      "0105\n",
      "0155\n",
      "0175\n"
     ]
    },
    {
     "data": {
      "text/plain": [
       "'C:\\\\Users\\\\dietrich\\\\data\\\\rudics\\\\mapco2\\\\0175\\\\C0175_2017_06_07.txt'"
      ]
     },
     "execution_count": 10,
     "metadata": {},
     "output_type": "execute_result"
    }
   ],
   "source": [
    "f_list = []\n",
    "s_list = []\n",
    "for system in systems_tested:\n",
    "    print(system)\n",
    "    f_list_system = glob.glob(local_target + '\\\\' + system + '\\\\*')\n",
    "    f_list = f_list + f_list_system\n",
    "    s_list.append(system)\n",
    "f_list\n",
    "f_list[-1]"
   ]
  },
  {
   "cell_type": "markdown",
   "metadata": {},
   "source": [
    "#### 2. Create bytes filepath represenations and insert into DataFrame"
   ]
  },
  {
   "cell_type": "code",
   "execution_count": 11,
   "metadata": {
    "collapsed": true
   },
   "outputs": [],
   "source": [
    "bf_list = [f.encode('utf-8') for f in f_list]"
   ]
  },
  {
   "cell_type": "code",
   "execution_count": 12,
   "metadata": {
    "collapsed": false
   },
   "outputs": [],
   "source": [
    "dff = pd.DataFrame.from_dict({'filepath': bf_list})"
   ]
  },
  {
   "cell_type": "markdown",
   "metadata": {},
   "source": [
    "#### 3. Get date of file data and filter based on t_start and t_end"
   ]
  },
  {
   "cell_type": "code",
   "execution_count": 13,
   "metadata": {
    "collapsed": true
   },
   "outputs": [],
   "source": [
    "def get_date(bfp):\n",
    "    \"\"\"\n",
    "    Parameters\n",
    "    ----------\n",
    "    bfp : bytes, bytes filepath\n",
    "    \n",
    "    \"\"\"\n",
    "    fp_list = bfp.split(b'\\\\')\n",
    "    fa = fp_list[-1]\n",
    "    fb = fa.split(b'.')[0]\n",
    "    fc = fb.split(b'_')\n",
    "    fd = fc[1:]\n",
    "    if len(fd) == 4:\n",
    "        fd = fd[:-1]\n",
    "    fe = (b'-').join(fd)\n",
    "    return fe.decode('utf-8')"
   ]
  },
  {
   "cell_type": "code",
   "execution_count": 14,
   "metadata": {
    "collapsed": true
   },
   "outputs": [],
   "source": [
    "dff['datetime_str'] = dff.filepath.apply(get_date)"
   ]
  },
  {
   "cell_type": "code",
   "execution_count": 15,
   "metadata": {
    "collapsed": true
   },
   "outputs": [],
   "source": [
    "dff.filepath = dff.filepath.str.decode('utf-8')"
   ]
  },
  {
   "cell_type": "code",
   "execution_count": 16,
   "metadata": {
    "collapsed": false
   },
   "outputs": [],
   "source": [
    "dff['datetime64_ns'] = pd.to_datetime(dff.datetime_str)"
   ]
  },
  {
   "cell_type": "code",
   "execution_count": 17,
   "metadata": {
    "collapsed": false
   },
   "outputs": [
    {
     "data": {
      "image/png": "[encoded data removed]",
      "text/plain": [
       "<matplotlib.figure.Figure at 0x1da78fac7b8>"
      ]
     },
     "metadata": {},
     "output_type": "display_data"
    }
   ],
   "source": [
    "plt.plot(dff.datetime64_ns)\n",
    "plt.show()"
   ]
  },
  {
   "cell_type": "code",
   "execution_count": 18,
   "metadata": {
    "collapsed": true
   },
   "outputs": [],
   "source": [
    "dffs = dff[(dff.datetime64_ns >= t_start) & (dff.datetime64_ns <= t_end)]"
   ]
  },
  {
   "cell_type": "code",
   "execution_count": 19,
   "metadata": {
    "collapsed": false
   },
   "outputs": [
    {
     "data": {
      "image/png": "[encoded data removed]",
      "text/plain": [
       "<matplotlib.figure.Figure at 0x1da7a6d0dd8>"
      ]
     },
     "metadata": {},
     "output_type": "display_data"
    }
   ],
   "source": [
    "plt.plot(dffs.datetime64_ns)\n",
    "plt.show()"
   ]
  },
  {
   "cell_type": "markdown",
   "metadata": {},
   "source": [
    "### III. Insert all data into DataFrames"
   ]
  },
  {
   "cell_type": "code",
   "execution_count": 20,
   "metadata": {
    "collapsed": true
   },
   "outputs": [],
   "source": [
    "f_list = list(dffs.filepath)"
   ]
  },
  {
   "cell_type": "code",
   "execution_count": 21,
   "metadata": {
    "collapsed": false
   },
   "outputs": [],
   "source": [
    "df = load.file_batch(f_list, verbose=False)\n",
    "df.reset_index(inplace=True, drop=True)"
   ]
  },
  {
   "cell_type": "code",
   "execution_count": 22,
   "metadata": {
    "collapsed": false
   },
   "outputs": [
    {
     "data": {
      "text/plain": [
       "mapco2_start       int64         \n",
       "ph_sami_start      int64         \n",
       "ph_seafet_start    int64         \n",
       "sbe16_start        int64         \n",
       "met_start          int64         \n",
       "datetime           object        \n",
       "datetime64_ns      datetime64[ns]\n",
       "mapco2_end         int32         \n",
       "ph_sami_end        int32         \n",
       "ph_seafet_end      int32         \n",
       "sbe16_end          int32         \n",
       "met_end            int32         \n",
       "source             object        \n",
       "unit               object        \n",
       "common_key         object        \n",
       "sbe16_list         object        \n",
       "ph_sami_list       object        \n",
       "ph_seafet_list     object        \n",
       "met_list           object        \n",
       "co2_list           object        \n",
       "dtype: object"
      ]
     },
     "execution_count": 22,
     "metadata": {},
     "output_type": "execute_result"
    }
   ],
   "source": [
    "df.dtypes"
   ]
  },
  {
   "cell_type": "markdown",
   "metadata": {},
   "source": [
    "#### 2. Clean SAMI pH data using sunburst_sensors.sunburst package  \n",
    "Note: no more use of pyMAPCO2 package in this section"
   ]
  },
  {
   "cell_type": "code",
   "execution_count": 23,
   "metadata": {
    "collapsed": false
   },
   "outputs": [],
   "source": [
    "df.ph_sami_list = df.ph_sami_list.apply(mapco2.nested_list_strip)"
   ]
  },
  {
   "cell_type": "code",
   "execution_count": 24,
   "metadata": {
    "collapsed": false
   },
   "outputs": [],
   "source": [
    "df.ph_sami_list = df.ph_sami_list.apply(mapco2.remove_oa_delimiter)"
   ]
  },
  {
   "cell_type": "code",
   "execution_count": 25,
   "metadata": {
    "collapsed": false
   },
   "outputs": [],
   "source": [
    "df['datetime_ph_sami'] = df.ph_sami_list.apply(mapco2.extract_mapco2_datetime)"
   ]
  },
  {
   "cell_type": "code",
   "execution_count": 26,
   "metadata": {
    "collapsed": false
   },
   "outputs": [],
   "source": [
    "df['ph_sami_hex'] = df.ph_sami_list.apply(mapco2.extract_sami_hex)"
   ]
  },
  {
   "cell_type": "code",
   "execution_count": 27,
   "metadata": {
    "collapsed": true
   },
   "outputs": [],
   "source": [
    "df['ph_sami_data'] = ''\n",
    "df['ph_sami_control'] = ''"
   ]
  },
  {
   "cell_type": "code",
   "execution_count": 28,
   "metadata": {
    "collapsed": false
   },
   "outputs": [],
   "source": [
    "df = df.apply(mapco2.split_sami_hex, axis=1)"
   ]
  },
  {
   "cell_type": "code",
   "execution_count": 29,
   "metadata": {
    "collapsed": true
   },
   "outputs": [],
   "source": [
    "ph = sami.PH()"
   ]
  },
  {
   "cell_type": "code",
   "execution_count": 30,
   "metadata": {
    "collapsed": true
   },
   "outputs": [],
   "source": [
    "df_sami = ph.df_from_hex(list(df.ph_sami_data))"
   ]
  },
  {
   "cell_type": "code",
   "execution_count": 31,
   "metadata": {
    "collapsed": false
   },
   "outputs": [],
   "source": [
    "reload(sami)\n",
    "ph = sami.PH()\n",
    "listpH = [ph.parse_hex(s) for s in list(df.ph_sami_data)]"
   ]
  },
  {
   "cell_type": "markdown",
   "metadata": {
    "collapsed": true
   },
   "source": [
    "### IV. Import all CO2 data"
   ]
  },
  {
   "cell_type": "code",
   "execution_count": 32,
   "metadata": {
    "collapsed": false
   },
   "outputs": [],
   "source": [
    "reload(iridium)\n",
    "h, g, e, co2 = iridium.batch_co2_list(df.co2_list, verbose=False)"
   ]
  },
  {
   "cell_type": "code",
   "execution_count": 33,
   "metadata": {
    "collapsed": false
   },
   "outputs": [
    {
     "data": {
      "text/plain": [
       "array(['0168', '0024', '0105', '0155', '0175'], dtype=object)"
      ]
     },
     "execution_count": 33,
     "metadata": {},
     "output_type": "execute_result"
    }
   ],
   "source": [
    "co2.system.unique()"
   ]
  },
  {
   "cell_type": "code",
   "execution_count": 34,
   "metadata": {
    "collapsed": false
   },
   "outputs": [],
   "source": [
    "co2.drop_duplicates(subset=['cycle', 'datetime64_ns', 'system'], inplace=True)"
   ]
  },
  {
   "cell_type": "code",
   "execution_count": 35,
   "metadata": {
    "collapsed": false
   },
   "outputs": [
    {
     "data": {
      "text/plain": [
       "array(['0168', '0024', '0105', '0155', '0175'], dtype=object)"
      ]
     },
     "execution_count": 35,
     "metadata": {},
     "output_type": "execute_result"
    }
   ],
   "source": [
    "co2.system.unique()"
   ]
  },
  {
   "cell_type": "raw",
   "metadata": {
    "collapsed": true
   },
   "source": [
    "plot.ph_p"
   ]
  },
  {
   "cell_type": "code",
   "execution_count": 36,
   "metadata": {
    "collapsed": false
   },
   "outputs": [
    {
     "data": {
      "text/plain": [
       "['0168', '0024', '0105', '0155', '0175']"
      ]
     },
     "execution_count": 36,
     "metadata": {},
     "output_type": "execute_result"
    }
   ],
   "source": [
    "list(co2.system.unique())"
   ]
  },
  {
   "cell_type": "code",
   "execution_count": 37,
   "metadata": {
    "collapsed": false
   },
   "outputs": [
    {
     "data": {
      "text/plain": [
       "cycle              object        \n",
       "minute             float64       \n",
       "licor_temp         float64       \n",
       "licor_temp_std     float64       \n",
       "licor_press        float64       \n",
       "licor_press_std    float64       \n",
       "xCO2               float64       \n",
       "xCO2_std           object        \n",
       "O2                 float64       \n",
       "O2_std             float64       \n",
       "RH                 float64       \n",
       "RH_std             float64       \n",
       "RH_temp            float64       \n",
       "RH_temp_std        float64       \n",
       "xCO2_raw1          float64       \n",
       "xCO2_raw1_std      float64       \n",
       "xCO2_raw2          float64       \n",
       "xCO2_raw2_std      object        \n",
       "common_key         object        \n",
       "system             object        \n",
       "datetime_str       object        \n",
       "datetime64_ns      datetime64[ns]\n",
       "dtype: object"
      ]
     },
     "execution_count": 37,
     "metadata": {},
     "output_type": "execute_result"
    }
   ],
   "source": [
    "co2.dtypes"
   ]
  },
  {
   "cell_type": "code",
   "execution_count": 38,
   "metadata": {
    "collapsed": false
   },
   "outputs": [],
   "source": [
    "co2_list = []\n",
    "for system in co2.system.unique():\n",
    "    for cycle in co2.cycle.unique():\n",
    "        key = system + '_' + cycle\n",
    "        _df = co2[(co2.system == system) & (co2.cycle == cycle)].copy()\n",
    "        _df.sort_values(by='datetime64_ns', inplace=True)\n",
    "        _df.reset_index(inplace=True, drop=True)\n",
    "        co2_list.append((system, cycle, _df))"
   ]
  },
  {
   "cell_type": "code",
   "execution_count": 39,
   "metadata": {
    "collapsed": false
   },
   "outputs": [
    {
     "data": {
      "text/plain": [
       "['0175', '0105', '0024', '0168', '0155']"
      ]
     },
     "execution_count": 39,
     "metadata": {},
     "output_type": "execute_result"
    }
   ],
   "source": [
    "systems  = list(set([d[0] for d in co2_list]))\n",
    "systems"
   ]
  },
  {
   "cell_type": "code",
   "execution_count": 40,
   "metadata": {
    "collapsed": false
   },
   "outputs": [
    {
     "data": {
      "text/plain": [
       "{'0024': 2, '0105': 1, '0155': 4, '0168': 3, '0175': 0}"
      ]
     },
     "execution_count": 40,
     "metadata": {},
     "output_type": "execute_result"
    }
   ],
   "source": [
    "dict(enumerate(set([d[0] for d in co2_list])))\n",
    "{v: k for k, v in dict(enumerate(set([d[0] for d in co2_list]))).items()}"
   ]
  },
  {
   "cell_type": "markdown",
   "metadata": {},
   "source": [
    "### V. Plot Data"
   ]
  },
  {
   "cell_type": "code",
   "execution_count": 41,
   "metadata": {
    "collapsed": false
   },
   "outputs": [
    {
     "data": {
      "text/plain": [
       "'file://C:\\\\Users\\\\dietrich\\\\code\\\\mapco2_tests\\\\Lab 1030 Data.html'"
      ]
     },
     "execution_count": 41,
     "metadata": {},
     "output_type": "execute_result"
    }
   ],
   "source": [
    "reload(plot_ply)\n",
    "fig = dict(data=plot_ply.ms_data(co2_list),\n",
    "           layout=plot_ply.default_layout(xco2_sw_range=[300, 700]))\n",
    "_f = 'Lab 1030 Data.html'\n",
    "ply.plot(fig, output_type='file',\n",
    "         auto_open=True, filename=_f,  show_link=False)"
   ]
  },
  {
   "cell_type": "code",
   "execution_count": null,
   "metadata": {
    "collapsed": true
   },
   "outputs": [],
   "source": []
  }
 ],
 "metadata": {
  "kernelspec": {
   "display_name": "Python 3",
   "language": "python",
   "name": "python3"
  },
  "language_info": {
   "codemirror_mode": {
    "name": "ipython",
    "version": 3
   },
   "file_extension": ".py",
   "mimetype": "text/x-python",
   "name": "python",
   "nbconvert_exporter": "python",
   "pygments_lexer": "ipython3",
   "version": "3.5.2"
  }
 },
 "nbformat": 4,
 "nbformat_minor": 1
}
